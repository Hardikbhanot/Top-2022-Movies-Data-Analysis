{
 "cells": [
  {
   "cell_type": "markdown",
   "id": "bc602115",
   "metadata": {},
   "source": [
    "# Importing csv file and converting it into dataframe"
   ]
  },
  {
   "cell_type": "code",
   "execution_count": 1,
   "id": "22a8ba34",
   "metadata": {},
   "outputs": [
    {
     "data": {
      "text/html": [
       "<div>\n",
       "<style scoped>\n",
       "    .dataframe tbody tr th:only-of-type {\n",
       "        vertical-align: middle;\n",
       "    }\n",
       "\n",
       "    .dataframe tbody tr th {\n",
       "        vertical-align: top;\n",
       "    }\n",
       "\n",
       "    .dataframe thead th {\n",
       "        text-align: right;\n",
       "    }\n",
       "</style>\n",
       "<table border=\"1\" class=\"dataframe\">\n",
       "  <thead>\n",
       "    <tr style=\"text-align: right;\">\n",
       "      <th></th>\n",
       "      <th>Title</th>\n",
       "      <th>director (s)</th>\n",
       "      <th>Country</th>\n",
       "      <th>Language (s)</th>\n",
       "      <th>Earning</th>\n",
       "      <th>Rating</th>\n",
       "      <th>Overview</th>\n",
       "      <th>Total rewies</th>\n",
       "    </tr>\n",
       "  </thead>\n",
       "  <tbody>\n",
       "    <tr>\n",
       "      <th>0</th>\n",
       "      <td>Ambulance</td>\n",
       "      <td>Michael Bay</td>\n",
       "      <td>United States</td>\n",
       "      <td>English , Spanish</td>\n",
       "      <td>$51,309,115</td>\n",
       "      <td>6.1</td>\n",
       "      <td>Two robbers steal an ambulance after their hei...</td>\n",
       "      <td>66046</td>\n",
       "    </tr>\n",
       "    <tr>\n",
       "      <th>1</th>\n",
       "      <td>Amsterdam</td>\n",
       "      <td>David O. Russell</td>\n",
       "      <td>Japan</td>\n",
       "      <td>English</td>\n",
       "      <td>$21,969,464</td>\n",
       "      <td>6.2</td>\n",
       "      <td>In the 1930s, three friends witness a murder, ...</td>\n",
       "      <td>11786</td>\n",
       "    </tr>\n",
       "    <tr>\n",
       "      <th>2</th>\n",
       "      <td>Barbarian</td>\n",
       "      <td>Zach Cregger</td>\n",
       "      <td>United States</td>\n",
       "      <td>English</td>\n",
       "      <td>$42,173,631</td>\n",
       "      <td>7.5</td>\n",
       "      <td>A woman staying at an Airbnb discovers that th...</td>\n",
       "      <td>20116</td>\n",
       "    </tr>\n",
       "    <tr>\n",
       "      <th>3</th>\n",
       "      <td>Beast</td>\n",
       "      <td>Baltasar Kormákur</td>\n",
       "      <td>United States</td>\n",
       "      <td>English</td>\n",
       "      <td>$36,168,985</td>\n",
       "      <td>5.6</td>\n",
       "      <td>A father and his two teenage daughters find th...</td>\n",
       "      <td>20673</td>\n",
       "    </tr>\n",
       "    <tr>\n",
       "      <th>4</th>\n",
       "      <td>Bob's Burgers: The Movie</td>\n",
       "      <td>Loren Bouchard</td>\n",
       "      <td>United States</td>\n",
       "      <td>English , German</td>\n",
       "      <td>$34,148,750</td>\n",
       "      <td>7.0</td>\n",
       "      <td>The Belchers try to save the restaurant from c...</td>\n",
       "      <td>16426</td>\n",
       "    </tr>\n",
       "    <tr>\n",
       "      <th>...</th>\n",
       "      <td>...</td>\n",
       "      <td>...</td>\n",
       "      <td>...</td>\n",
       "      <td>...</td>\n",
       "      <td>...</td>\n",
       "      <td>...</td>\n",
       "      <td>...</td>\n",
       "      <td>...</td>\n",
       "    </tr>\n",
       "    <tr>\n",
       "      <th>64</th>\n",
       "      <td>Top Gun: Maverick</td>\n",
       "      <td>Joseph Kosinski</td>\n",
       "      <td>United States</td>\n",
       "      <td>English</td>\n",
       "      <td>$1,484,651,712</td>\n",
       "      <td>8.4</td>\n",
       "      <td>After thirty years, Maverick is still pushing ...</td>\n",
       "      <td>409190</td>\n",
       "    </tr>\n",
       "    <tr>\n",
       "      <th>65</th>\n",
       "      <td>Uncharted</td>\n",
       "      <td>Ruben Fleischer</td>\n",
       "      <td>United States</td>\n",
       "      <td>English , Russian</td>\n",
       "      <td>$401,748,820</td>\n",
       "      <td>6.3</td>\n",
       "      <td>Street-smart Nathan Drake is recruited by seas...</td>\n",
       "      <td>194377</td>\n",
       "    </tr>\n",
       "    <tr>\n",
       "      <th>66</th>\n",
       "      <td>Vengeance</td>\n",
       "      <td>B.J. Novak</td>\n",
       "      <td>United States</td>\n",
       "      <td>English</td>\n",
       "      <td>$4,265,536</td>\n",
       "      <td>6.8</td>\n",
       "      <td>A writer from New York City attempts to solve ...</td>\n",
       "      <td>13568</td>\n",
       "    </tr>\n",
       "    <tr>\n",
       "      <th>67</th>\n",
       "      <td>Water Gate Bridge</td>\n",
       "      <td>Hark Tsui</td>\n",
       "      <td>United States , Australia</td>\n",
       "      <td>English</td>\n",
       "      <td>$626,571,561</td>\n",
       "      <td>5.4</td>\n",
       "      <td>Sequel to \"The Battle at Lake Changjin\". Follo...</td>\n",
       "      <td>799</td>\n",
       "    </tr>\n",
       "    <tr>\n",
       "      <th>68</th>\n",
       "      <td>Where the Crawdads Sing</td>\n",
       "      <td>Olivia Newman</td>\n",
       "      <td>United States</td>\n",
       "      <td>English , French</td>\n",
       "      <td>$136,930,760</td>\n",
       "      <td>7.1</td>\n",
       "      <td>A woman who raised herself in the marshes of t...</td>\n",
       "      <td>44777</td>\n",
       "    </tr>\n",
       "  </tbody>\n",
       "</table>\n",
       "<p>69 rows × 8 columns</p>\n",
       "</div>"
      ],
      "text/plain": [
       "                       Title        director (s)                    Country  \\\n",
       "0                  Ambulance         Michael Bay              United States   \n",
       "1                  Amsterdam    David O. Russell                     Japan    \n",
       "2                  Barbarian        Zach Cregger              United States   \n",
       "3                      Beast   Baltasar Kormákur              United States   \n",
       "4   Bob's Burgers: The Movie     Loren Bouchard               United States   \n",
       "..                       ...                 ...                        ...   \n",
       "64         Top Gun: Maverick     Joseph Kosinski              United States   \n",
       "65                 Uncharted     Ruben Fleischer              United States   \n",
       "66                 Vengeance          B.J. Novak              United States   \n",
       "67         Water Gate Bridge           Hark Tsui  United States , Australia   \n",
       "68   Where the Crawdads Sing       Olivia Newman              United States   \n",
       "\n",
       "         Language (s)         Earning  Rating  \\\n",
       "0   English , Spanish     $51,309,115     6.1   \n",
       "1             English     $21,969,464     6.2   \n",
       "2             English     $42,173,631     7.5   \n",
       "3             English     $36,168,985     5.6   \n",
       "4    English , German     $34,148,750     7.0   \n",
       "..                ...             ...     ...   \n",
       "64           English   $1,484,651,712     8.4   \n",
       "65  English , Russian    $401,748,820     6.3   \n",
       "66            English      $4,265,536     6.8   \n",
       "67            English    $626,571,561     5.4   \n",
       "68   English , French    $136,930,760     7.1   \n",
       "\n",
       "                                             Overview  Total rewies  \n",
       "0   Two robbers steal an ambulance after their hei...         66046  \n",
       "1   In the 1930s, three friends witness a murder, ...         11786  \n",
       "2   A woman staying at an Airbnb discovers that th...         20116  \n",
       "3   A father and his two teenage daughters find th...         20673  \n",
       "4   The Belchers try to save the restaurant from c...         16426  \n",
       "..                                                ...           ...  \n",
       "64  After thirty years, Maverick is still pushing ...        409190  \n",
       "65  Street-smart Nathan Drake is recruited by seas...        194377  \n",
       "66  A writer from New York City attempts to solve ...         13568  \n",
       "67  Sequel to \"The Battle at Lake Changjin\". Follo...           799  \n",
       "68  A woman who raised herself in the marshes of t...         44777  \n",
       "\n",
       "[69 rows x 8 columns]"
      ]
     },
     "execution_count": 1,
     "metadata": {},
     "output_type": "execute_result"
    }
   ],
   "source": [
    "import pandas as pd\n",
    "dataset=pd.read_csv(\"./Movies.csv\")\n",
    "df=pd.DataFrame(dataset)\n",
    "df"
   ]
  },
  {
   "cell_type": "markdown",
   "id": "8006c1ee",
   "metadata": {},
   "source": [
    "# Finding highest grossing movie"
   ]
  },
  {
   "cell_type": "code",
   "execution_count": 37,
   "id": "98b41006",
   "metadata": {},
   "outputs": [
    {
     "data": {
      "text/plain": [
       "'990,492,385'"
      ]
     },
     "execution_count": 37,
     "metadata": {},
     "output_type": "execute_result"
    }
   ],
   "source": [
    "df['Earning'] = df['Earning'].replace({'\\$':''}, regex = True)\n",
    "df\n",
    "max_box_office_collection=df['Earning'].max()\n",
    "max_box_office_collection"
   ]
  },
  {
   "cell_type": "code",
   "execution_count": 38,
   "id": "a3f7a4d4",
   "metadata": {},
   "outputs": [
    {
     "data": {
      "text/html": [
       "<div>\n",
       "<style scoped>\n",
       "    .dataframe tbody tr th:only-of-type {\n",
       "        vertical-align: middle;\n",
       "    }\n",
       "\n",
       "    .dataframe tbody tr th {\n",
       "        vertical-align: top;\n",
       "    }\n",
       "\n",
       "    .dataframe thead th {\n",
       "        text-align: right;\n",
       "    }\n",
       "</style>\n",
       "<table border=\"1\" class=\"dataframe\">\n",
       "  <thead>\n",
       "    <tr style=\"text-align: right;\">\n",
       "      <th></th>\n",
       "      <th>Title</th>\n",
       "      <th>director (s)</th>\n",
       "      <th>Country</th>\n",
       "      <th>Language (s)</th>\n",
       "      <th>Earning</th>\n",
       "      <th>Rating</th>\n",
       "      <th>Overview</th>\n",
       "      <th>Total rewies</th>\n",
       "    </tr>\n",
       "  </thead>\n",
       "  <tbody>\n",
       "    <tr>\n",
       "      <th>27</th>\n",
       "      <td>Jurassic World Dominion</td>\n",
       "      <td>Colin Trevorrow</td>\n",
       "      <td>United States</td>\n",
       "      <td>English</td>\n",
       "      <td>990,492,385</td>\n",
       "      <td>5.7</td>\n",
       "      <td>Four years after the destruction of Isla Nubla...</td>\n",
       "      <td>144080</td>\n",
       "    </tr>\n",
       "  </tbody>\n",
       "</table>\n",
       "</div>"
      ],
      "text/plain": [
       "                      Title     director (s)        Country Language (s)  \\\n",
       "27  Jurassic World Dominion  Colin Trevorrow  United States      English   \n",
       "\n",
       "        Earning  Rating                                           Overview  \\\n",
       "27  990,492,385     5.7  Four years after the destruction of Isla Nubla...   \n",
       "\n",
       "    Total rewies  \n",
       "27        144080  "
      ]
     },
     "execution_count": 38,
     "metadata": {},
     "output_type": "execute_result"
    }
   ],
   "source": [
    "df.loc[df['Earning']==max_box_office_collection]"
   ]
  },
  {
   "cell_type": "markdown",
   "id": "22f0121a",
   "metadata": {},
   "source": [
    "# Finding number of movies in each country"
   ]
  },
  {
   "cell_type": "code",
   "execution_count": 39,
   "id": "18d896bf",
   "metadata": {},
   "outputs": [
    {
     "data": {
      "text/plain": [
       "Country\n",
       "United States                52\n",
       "China                         4\n",
       "India                         3\n",
       "Japan                         3\n",
       "South Korea                   2\n",
       "United States , Australia     2\n",
       "Canada                        1\n",
       "Japan                         1\n",
       "Spain                         1\n",
       "dtype: int64"
      ]
     },
     "execution_count": 39,
     "metadata": {},
     "output_type": "execute_result"
    }
   ],
   "source": [
    "number=df.groupby(by='Country').size()\n",
    "number.sort_values(ascending=False)"
   ]
  },
  {
   "cell_type": "markdown",
   "id": "2b6e793d",
   "metadata": {},
   "source": [
    "# Movies with maximum reviews"
   ]
  },
  {
   "cell_type": "markdown",
   "id": "c8fe991a",
   "metadata": {},
   "source": [
    "max_reviews=df['Total rewies'].max()\n",
    "max_reviews\n",
    "df.loc[df['Total rewies']==max_reviews]\n"
   ]
  },
  {
   "cell_type": "markdown",
   "id": "75381d76",
   "metadata": {},
   "source": [
    "# Highest Rated movies"
   ]
  },
  {
   "cell_type": "code",
   "execution_count": 41,
   "id": "5bbf04b8",
   "metadata": {},
   "outputs": [
    {
     "data": {
      "text/html": [
       "<div>\n",
       "<style scoped>\n",
       "    .dataframe tbody tr th:only-of-type {\n",
       "        vertical-align: middle;\n",
       "    }\n",
       "\n",
       "    .dataframe tbody tr th {\n",
       "        vertical-align: top;\n",
       "    }\n",
       "\n",
       "    .dataframe thead th {\n",
       "        text-align: right;\n",
       "    }\n",
       "</style>\n",
       "<table border=\"1\" class=\"dataframe\">\n",
       "  <thead>\n",
       "    <tr style=\"text-align: right;\">\n",
       "      <th></th>\n",
       "      <th>Title</th>\n",
       "      <th>director (s)</th>\n",
       "      <th>Country</th>\n",
       "      <th>Language (s)</th>\n",
       "      <th>Earning</th>\n",
       "      <th>Rating</th>\n",
       "      <th>Overview</th>\n",
       "      <th>Total rewies</th>\n",
       "    </tr>\n",
       "  </thead>\n",
       "  <tbody>\n",
       "    <tr>\n",
       "      <th>28</th>\n",
       "      <td>K.G.F: Chapter 2</td>\n",
       "      <td>Prashanth Neel</td>\n",
       "      <td>United States</td>\n",
       "      <td>English , French</td>\n",
       "      <td>89,123,940</td>\n",
       "      <td>8.4</td>\n",
       "      <td>In the blood-soaked Kolar Gold Fields, Rocky's...</td>\n",
       "      <td>129044</td>\n",
       "    </tr>\n",
       "    <tr>\n",
       "      <th>64</th>\n",
       "      <td>Top Gun: Maverick</td>\n",
       "      <td>Joseph Kosinski</td>\n",
       "      <td>United States</td>\n",
       "      <td>English</td>\n",
       "      <td>1,484,651,712</td>\n",
       "      <td>8.4</td>\n",
       "      <td>After thirty years, Maverick is still pushing ...</td>\n",
       "      <td>409190</td>\n",
       "    </tr>\n",
       "  </tbody>\n",
       "</table>\n",
       "</div>"
      ],
      "text/plain": [
       "                Title     director (s)        Country      Language (s)  \\\n",
       "28   K.G.F: Chapter 2   Prashanth Neel  United States  English , French   \n",
       "64  Top Gun: Maverick  Joseph Kosinski  United States          English    \n",
       "\n",
       "          Earning  Rating                                           Overview  \\\n",
       "28     89,123,940     8.4  In the blood-soaked Kolar Gold Fields, Rocky's...   \n",
       "64  1,484,651,712     8.4  After thirty years, Maverick is still pushing ...   \n",
       "\n",
       "    Total rewies  \n",
       "28        129044  \n",
       "64        409190  "
      ]
     },
     "execution_count": 41,
     "metadata": {},
     "output_type": "execute_result"
    }
   ],
   "source": [
    "highest_rating=df['Rating'].max()\n",
    "highest_rating\n",
    "highest_rated_movie=df.loc[df['Rating']==highest_rating]\n",
    "highest_rated_movie\n",
    "                    "
   ]
  },
  {
   "cell_type": "code",
   "execution_count": 44,
   "id": "01d9dd67",
   "metadata": {},
   "outputs": [],
   "source": [
    "import matplotlib.pyplot as plt"
   ]
  },
  {
   "cell_type": "markdown",
   "id": "2bf492af",
   "metadata": {},
   "source": [
    "# Histogram showing rating"
   ]
  },
  {
   "cell_type": "code",
   "execution_count": 51,
   "id": "b037124b",
   "metadata": {},
   "outputs": [
    {
     "data": {
      "text/plain": [
       "(array([ 1.,  5.,  7.,  7., 11., 11., 15.,  6.,  2.,  4.]),\n",
       " array([4.6 , 4.98, 5.36, 5.74, 6.12, 6.5 , 6.88, 7.26, 7.64, 8.02, 8.4 ]),\n",
       " <BarContainer object of 10 artists>)"
      ]
     },
     "execution_count": 51,
     "metadata": {},
     "output_type": "execute_result"
    },
    {
     "data": {
      "image/png": "[encoded data removed]",
      "text/plain": [
       "<Figure size 432x288 with 1 Axes>"
      ]
     },
     "metadata": {
      "needs_background": "light"
     },
     "output_type": "display_data"
    }
   ],
   "source": [
    "plt.hist(df['Rating'])"
   ]
  },
  {
   "cell_type": "markdown",
   "id": "1164c234",
   "metadata": {},
   "source": [
    "# Histogram showing countries"
   ]
  },
  {
   "cell_type": "code",
   "execution_count": 53,
   "id": "331b6212",
   "metadata": {},
   "outputs": [
    {
     "data": {
      "text/plain": [
       "(array([8., 0., 0., 0., 0., 0., 0., 0., 0., 1.]),\n",
       " array([ 1. ,  6.1, 11.2, 16.3, 21.4, 26.5, 31.6, 36.7, 41.8, 46.9, 52. ]),\n",
       " <BarContainer object of 10 artists>)"
      ]
     },
     "execution_count": 53,
     "metadata": {},
     "output_type": "execute_result"
    },
    {
     "data": {
      "image/png": "[encoded data removed]",
      "text/plain": [
       "<Figure size 432x288 with 1 Axes>"
      ]
     },
     "metadata": {
      "needs_background": "light"
     },
     "output_type": "display_data"
    }
   ],
   "source": [
    "plt.hist(number)"
   ]
  },
  {
   "cell_type": "markdown",
   "id": "073de10e",
   "metadata": {},
   "source": [
    "# Uniques Director names"
   ]
  },
  {
   "cell_type": "code",
   "execution_count": 58,
   "id": "f79e089b",
   "metadata": {},
   "outputs": [
    {
     "data": {
      "text/plain": [
       "array([' Michael Bay', ' David O. Russell', ' Zach Cregger',\n",
       "       ' Baltasar Kormákur', 'Loren Bouchard ', 'Halina Reijn',\n",
       "       'Ayan Mukerji', 'Nicholas Stoller', 'David Leitch',\n",
       "       'David Cronenberg', 'Kenneth Branagh', 'Gosho Aoyama', 'Sam Raimi',\n",
       "       'Reid Carolin', 'Olivia Wilde', 'Simon Curtis', 'Tetsuro Kodama',\n",
       "       'Jay Chandrasekhar', 'Baz Luhrmann', 'Dan Kwan', 'Scott Mann',\n",
       "       'David Yates', 'Rosalind Ross', 'Keith Thomas', 'David Gordon',\n",
       "       'Han-min kim', 'Jeff Tremaine', 'Colin Trevorrow',\n",
       "       'Prashanth Neel', 'Angus Mac', 'Josh Gordon', 'Kat Coiro',\n",
       "       'Martin Campbell', 'Alex Garland', 'Kyle Balda', 'Roland Emmerich',\n",
       "       'Daniel Espinosa', 'Anthony Fabian', 'Muye Wen', 'Jordan Peele',\n",
       "       'Gorô Taniguchi', 'Chris Bailey', 'Ti West', 'S.S Rajamouli',\n",
       "       'Matt Bettinelli', 'Tom George', 'Parker Finn', 'Jeff Fowler',\n",
       "       'Jared Stern', 'Todd Field', 'Simon Kinberg', 'Pierre Perifel',\n",
       "       'Matt Reeves', 'Scott Derrickson', 'Jessica M. Thompson',\n",
       "       'Aaron Nee', 'Robert Eggers', 'Sang-yong', 'Tom Gormican',\n",
       "       'Gina Prince', 'Taika Waititi', 'George Miller', 'Chinonye Chukwu',\n",
       "       'Wenxiong Xing', 'Joseph Kosinski', 'Ruben Fleischer',\n",
       "       ' B.J. Novak', 'Hark Tsui', 'Olivia Newman'], dtype=object)"
      ]
     },
     "execution_count": 58,
     "metadata": {},
     "output_type": "execute_result"
    }
   ],
   "source": [
    "df['director (s)'].unique()"
   ]
  },
  {
   "cell_type": "markdown",
   "id": "30cfde1c",
   "metadata": {},
   "source": [
    "# Removing duplicates"
   ]
  },
  {
   "cell_type": "code",
   "execution_count": 63,
   "id": "bea9b2ce",
   "metadata": {},
   "outputs": [
    {
     "data": {
      "text/html": [
       "<div>\n",
       "<style scoped>\n",
       "    .dataframe tbody tr th:only-of-type {\n",
       "        vertical-align: middle;\n",
       "    }\n",
       "\n",
       "    .dataframe tbody tr th {\n",
       "        vertical-align: top;\n",
       "    }\n",
       "\n",
       "    .dataframe thead th {\n",
       "        text-align: right;\n",
       "    }\n",
       "</style>\n",
       "<table border=\"1\" class=\"dataframe\">\n",
       "  <thead>\n",
       "    <tr style=\"text-align: right;\">\n",
       "      <th></th>\n",
       "      <th>Title</th>\n",
       "      <th>director (s)</th>\n",
       "      <th>Country</th>\n",
       "      <th>Language (s)</th>\n",
       "      <th>Earning</th>\n",
       "      <th>Rating</th>\n",
       "      <th>Overview</th>\n",
       "      <th>Total rewies</th>\n",
       "    </tr>\n",
       "  </thead>\n",
       "  <tbody>\n",
       "    <tr>\n",
       "      <th>0</th>\n",
       "      <td>Ambulance</td>\n",
       "      <td>Michael Bay</td>\n",
       "      <td>United States</td>\n",
       "      <td>English , Spanish</td>\n",
       "      <td>51,309,115</td>\n",
       "      <td>6.1</td>\n",
       "      <td>Two robbers steal an ambulance after their hei...</td>\n",
       "      <td>66046</td>\n",
       "    </tr>\n",
       "    <tr>\n",
       "      <th>1</th>\n",
       "      <td>Amsterdam</td>\n",
       "      <td>David O. Russell</td>\n",
       "      <td>Japan</td>\n",
       "      <td>English</td>\n",
       "      <td>21,969,464</td>\n",
       "      <td>6.2</td>\n",
       "      <td>In the 1930s, three friends witness a murder, ...</td>\n",
       "      <td>11786</td>\n",
       "    </tr>\n",
       "    <tr>\n",
       "      <th>2</th>\n",
       "      <td>Barbarian</td>\n",
       "      <td>Zach Cregger</td>\n",
       "      <td>United States</td>\n",
       "      <td>English</td>\n",
       "      <td>42,173,631</td>\n",
       "      <td>7.5</td>\n",
       "      <td>A woman staying at an Airbnb discovers that th...</td>\n",
       "      <td>20116</td>\n",
       "    </tr>\n",
       "    <tr>\n",
       "      <th>3</th>\n",
       "      <td>Beast</td>\n",
       "      <td>Baltasar Kormákur</td>\n",
       "      <td>United States</td>\n",
       "      <td>English</td>\n",
       "      <td>36,168,985</td>\n",
       "      <td>5.6</td>\n",
       "      <td>A father and his two teenage daughters find th...</td>\n",
       "      <td>20673</td>\n",
       "    </tr>\n",
       "    <tr>\n",
       "      <th>4</th>\n",
       "      <td>Bob's Burgers: The Movie</td>\n",
       "      <td>Loren Bouchard</td>\n",
       "      <td>United States</td>\n",
       "      <td>English , German</td>\n",
       "      <td>34,148,750</td>\n",
       "      <td>7.0</td>\n",
       "      <td>The Belchers try to save the restaurant from c...</td>\n",
       "      <td>16426</td>\n",
       "    </tr>\n",
       "    <tr>\n",
       "      <th>...</th>\n",
       "      <td>...</td>\n",
       "      <td>...</td>\n",
       "      <td>...</td>\n",
       "      <td>...</td>\n",
       "      <td>...</td>\n",
       "      <td>...</td>\n",
       "      <td>...</td>\n",
       "      <td>...</td>\n",
       "    </tr>\n",
       "    <tr>\n",
       "      <th>64</th>\n",
       "      <td>Top Gun: Maverick</td>\n",
       "      <td>Joseph Kosinski</td>\n",
       "      <td>United States</td>\n",
       "      <td>English</td>\n",
       "      <td>1,484,651,712</td>\n",
       "      <td>8.4</td>\n",
       "      <td>After thirty years, Maverick is still pushing ...</td>\n",
       "      <td>409190</td>\n",
       "    </tr>\n",
       "    <tr>\n",
       "      <th>65</th>\n",
       "      <td>Uncharted</td>\n",
       "      <td>Ruben Fleischer</td>\n",
       "      <td>United States</td>\n",
       "      <td>English , Russian</td>\n",
       "      <td>401,748,820</td>\n",
       "      <td>6.3</td>\n",
       "      <td>Street-smart Nathan Drake is recruited by seas...</td>\n",
       "      <td>194377</td>\n",
       "    </tr>\n",
       "    <tr>\n",
       "      <th>66</th>\n",
       "      <td>Vengeance</td>\n",
       "      <td>B.J. Novak</td>\n",
       "      <td>United States</td>\n",
       "      <td>English</td>\n",
       "      <td>4,265,536</td>\n",
       "      <td>6.8</td>\n",
       "      <td>A writer from New York City attempts to solve ...</td>\n",
       "      <td>13568</td>\n",
       "    </tr>\n",
       "    <tr>\n",
       "      <th>67</th>\n",
       "      <td>Water Gate Bridge</td>\n",
       "      <td>Hark Tsui</td>\n",
       "      <td>United States , Australia</td>\n",
       "      <td>English</td>\n",
       "      <td>626,571,561</td>\n",
       "      <td>5.4</td>\n",
       "      <td>Sequel to \"The Battle at Lake Changjin\". Follo...</td>\n",
       "      <td>799</td>\n",
       "    </tr>\n",
       "    <tr>\n",
       "      <th>68</th>\n",
       "      <td>Where the Crawdads Sing</td>\n",
       "      <td>Olivia Newman</td>\n",
       "      <td>United States</td>\n",
       "      <td>English , French</td>\n",
       "      <td>136,930,760</td>\n",
       "      <td>7.1</td>\n",
       "      <td>A woman who raised herself in the marshes of t...</td>\n",
       "      <td>44777</td>\n",
       "    </tr>\n",
       "  </tbody>\n",
       "</table>\n",
       "<p>69 rows × 8 columns</p>\n",
       "</div>"
      ],
      "text/plain": [
       "                       Title        director (s)                    Country  \\\n",
       "0                  Ambulance         Michael Bay              United States   \n",
       "1                  Amsterdam    David O. Russell                     Japan    \n",
       "2                  Barbarian        Zach Cregger              United States   \n",
       "3                      Beast   Baltasar Kormákur              United States   \n",
       "4   Bob's Burgers: The Movie     Loren Bouchard               United States   \n",
       "..                       ...                 ...                        ...   \n",
       "64         Top Gun: Maverick     Joseph Kosinski              United States   \n",
       "65                 Uncharted     Ruben Fleischer              United States   \n",
       "66                 Vengeance          B.J. Novak              United States   \n",
       "67         Water Gate Bridge           Hark Tsui  United States , Australia   \n",
       "68   Where the Crawdads Sing       Olivia Newman              United States   \n",
       "\n",
       "         Language (s)        Earning  Rating  \\\n",
       "0   English , Spanish     51,309,115     6.1   \n",
       "1             English     21,969,464     6.2   \n",
       "2             English     42,173,631     7.5   \n",
       "3             English     36,168,985     5.6   \n",
       "4    English , German     34,148,750     7.0   \n",
       "..                ...            ...     ...   \n",
       "64           English   1,484,651,712     8.4   \n",
       "65  English , Russian    401,748,820     6.3   \n",
       "66            English      4,265,536     6.8   \n",
       "67            English    626,571,561     5.4   \n",
       "68   English , French    136,930,760     7.1   \n",
       "\n",
       "                                             Overview  Total rewies  \n",
       "0   Two robbers steal an ambulance after their hei...         66046  \n",
       "1   In the 1930s, three friends witness a murder, ...         11786  \n",
       "2   A woman staying at an Airbnb discovers that th...         20116  \n",
       "3   A father and his two teenage daughters find th...         20673  \n",
       "4   The Belchers try to save the restaurant from c...         16426  \n",
       "..                                                ...           ...  \n",
       "64  After thirty years, Maverick is still pushing ...        409190  \n",
       "65  Street-smart Nathan Drake is recruited by seas...        194377  \n",
       "66  A writer from New York City attempts to solve ...         13568  \n",
       "67  Sequel to \"The Battle at Lake Changjin\". Follo...           799  \n",
       "68  A woman who raised herself in the marshes of t...         44777  \n",
       "\n",
       "[69 rows x 8 columns]"
      ]
     },
     "execution_count": 63,
     "metadata": {},
     "output_type": "execute_result"
    }
   ],
   "source": [
    "df.drop_duplicates()"
   ]
  },
  {
   "cell_type": "code",
   "execution_count": null,
   "id": "59054071",
   "metadata": {},
   "outputs": [],
   "source": []
  },
  {
   "cell_type": "code",
   "execution_count": null,
   "id": "411f94ee",
   "metadata": {},
   "outputs": [],
   "source": []
  }
 ],
 "metadata": {
  "kernelspec": {
   "display_name": "Python 3.9.5 64-bit",
   "language": "python",
   "name": "python3"
  },
  "language_info": {
   "codemirror_mode": {
    "name": "ipython",
    "version": 3
   },
   "file_extension": ".py",
   "mimetype": "text/x-python",
   "name": "python",
   "nbconvert_exporter": "python",
   "pygments_lexer": "ipython3",
   "version": "3.9.5"
  },
  "vscode": {
   "interpreter": {
    "hash": "1b8b0b025caf5c14cdae5b58c670e0cf705182681b0fb824fb96b5226ce1dfb5"
   }
  }
 },
 "nbformat": 4,
 "nbformat_minor": 5
}
